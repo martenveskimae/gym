{
 "cells": [
  {
   "cell_type": "code",
   "execution_count": 1,
   "metadata": {},
   "outputs": [],
   "source": [
    "import numpy as np\n",
    "\n",
    "from sklearn.datasets import load_digits\n",
    "from sklearn.preprocessing import label_binarize\n",
    "from sklearn.model_selection import train_test_split\n",
    "from sklearn.metrics import confusion_matrix\n",
    "\n",
    "import tensorflow as tf\n",
    "tfk = tf.keras\n",
    "\n",
    "import matplotlib.pyplot as plt\n",
    "%matplotlib inline \n",
    "%config InlineBackend.figure_format = 'png'\n",
    "plt.style.use('ggplot')"
   ]
  },
  {
   "cell_type": "markdown",
   "metadata": {},
   "source": [
    "### Andmed"
   ]
  },
  {
   "cell_type": "code",
   "execution_count": 2,
   "metadata": {},
   "outputs": [],
   "source": [
    "X, y = load_digits(10, True)\n",
    "X /= 255\n",
    "y = label_binarize(y, classes=list(range(10)))\n",
    "\n",
    "X_train, X_test, y_train, y_test = train_test_split(X, y, random_state=5150)"
   ]
  },
  {
   "cell_type": "code",
   "execution_count": 3,
   "metadata": {},
   "outputs": [
    {
     "data": {
      "image/png": "[encoded data removed]",
      "text/plain": [
       "<Figure size 1080x216 with 5 Axes>"
      ]
     },
     "metadata": {
      "needs_background": "light"
     },
     "output_type": "display_data"
    }
   ],
   "source": [
    "fig, axes = plt.subplots(1, 5, figsize=(15, 3))\n",
    "\n",
    "for i in range(5):\n",
    "    axes[i].imshow(X[i].reshape(8, 8))\n",
    "    axes[i].grid(False)\n",
    "\n",
    "plt.tight_layout()\n",
    "plt.show()"
   ]
  },
  {
   "cell_type": "markdown",
   "metadata": {},
   "source": [
    "### Defineerime mudeli"
   ]
  },
  {
   "cell_type": "code",
   "execution_count": 4,
   "metadata": {},
   "outputs": [],
   "source": [
    "model = tfk.Sequential([\n",
    "    tfk.layers.Input(shape=(64)),\n",
    "    tfk.layers.Dense(128, activation='relu'),\n",
    "    tfk.layers.Dense(10, activation='softmax')\n",
    "])\n",
    "\n",
    "model.compile(\n",
    "    loss='categorical_crossentropy',\n",
    "    optimizer=tfk.optimizers.Adam(),\n",
    "    metrics=['accuracy']\n",
    ")"
   ]
  },
  {
   "cell_type": "markdown",
   "metadata": {},
   "source": [
    "### Treenime mudeli"
   ]
  },
  {
   "cell_type": "code",
   "execution_count": 5,
   "metadata": {},
   "outputs": [
    {
     "name": "stdout",
     "output_type": "stream",
     "text": [
      "Train on 1347 samples\n",
      "Epoch 1/10\n",
      "1347/1347 [==============================] - 0s 334us/sample - loss: 2.2767 - accuracy: 0.2821\n",
      "Epoch 2/10\n",
      "1347/1347 [==============================] - 0s 32us/sample - loss: 2.2087 - accuracy: 0.6704\n",
      "Epoch 3/10\n",
      "1347/1347 [==============================] - 0s 29us/sample - loss: 2.1112 - accuracy: 0.7439\n",
      "Epoch 4/10\n",
      "1347/1347 [==============================] - 0s 29us/sample - loss: 1.9776 - accuracy: 0.7424\n",
      "Epoch 5/10\n",
      "1347/1347 [==============================] - 0s 32us/sample - loss: 1.8087 - accuracy: 0.8211\n",
      "Epoch 6/10\n",
      "1347/1347 [==============================] - 0s 32us/sample - loss: 1.6214 - accuracy: 0.8114\n",
      "Epoch 7/10\n",
      "1347/1347 [==============================] - 0s 33us/sample - loss: 1.4318 - accuracy: 0.8337\n",
      "Epoch 8/10\n",
      "1347/1347 [==============================] - 0s 33us/sample - loss: 1.2584 - accuracy: 0.8523\n",
      "Epoch 9/10\n",
      "1347/1347 [==============================] - 0s 31us/sample - loss: 1.1052 - accuracy: 0.8604\n",
      "Epoch 10/10\n",
      "1347/1347 [==============================] - 0s 31us/sample - loss: 0.9755 - accuracy: 0.8686\n"
     ]
    }
   ],
   "source": [
    "history = model.fit(\n",
    "    X_train, y_train,\n",
    "    batch_size=32,\n",
    "    epochs=10\n",
    ")"
   ]
  },
  {
   "cell_type": "markdown",
   "metadata": {},
   "source": [
    "### Valideerime mudeli"
   ]
  },
  {
   "cell_type": "code",
   "execution_count": 6,
   "metadata": {},
   "outputs": [
    {
     "name": "stdout",
     "output_type": "stream",
     "text": [
      "[[42  0  0  0  1  0  0  0  0  0]\n",
      " [ 0 35  4  0  0  0  1  0  0  3]\n",
      " [ 0  2 43  1  0  0  0  0  1  0]\n",
      " [ 1  0  0 41  0  0  0  3  1  0]\n",
      " [ 0  0  0  0 45  0  0  0  1  0]\n",
      " [ 0  0  0  0  1 41  1  0  0  0]\n",
      " [ 0  0  0  0  1  0 41  0  0  0]\n",
      " [ 0  0  0  0  0  0  0 48  0  0]\n",
      " [ 0  8  1  2  0  0  1  0 28  2]\n",
      " [ 0  2  0  9  2  2  0  5  1 29]]\n"
     ]
    }
   ],
   "source": [
    "pred = np.argmax(model.predict(X_test), axis=1)\n",
    "true = np.argmax(y_test, axis=1)\n",
    "\n",
    "print(confusion_matrix(true, pred))"
   ]
  },
  {
   "cell_type": "code",
   "execution_count": null,
   "metadata": {},
   "outputs": [],
   "source": []
  }
 ],
 "metadata": {
  "kernelspec": {
   "display_name": "Python 3",
   "language": "python",
   "name": "python3"
  },
  "language_info": {
   "codemirror_mode": {
    "name": "ipython",
    "version": 3
   },
   "file_extension": ".py",
   "mimetype": "text/x-python",
   "name": "python",
   "nbconvert_exporter": "python",
   "pygments_lexer": "ipython3",
   "version": "3.7.4"
  }
 },
 "nbformat": 4,
 "nbformat_minor": 2
}
